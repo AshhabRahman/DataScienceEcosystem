{
 "cells": [
  {
   "cell_type": "markdown",
   "id": "2d1ad2b8-f27f-43ed-a0d0-f08a137b936f",
   "metadata": {},
   "source": [
    "# Data Science Tools and Ecosystem"
   ]
  },
  {
   "cell_type": "markdown",
   "id": "70c73a9c-9c44-43d6-9c79-7ec8644b8b57",
   "metadata": {},
   "source": [
    "In this notebook, Data Science Tools and Ecosystem are summarized."
   ]
  },
  {
   "cell_type": "markdown",
   "id": "fc99e90f-7b52-4d04-b897-4639d0eee619",
   "metadata": {},
   "source": [
    "**Objectives:**\n",
    "* List popular languages for Data Science\n",
    "* List popular libraries for Data Science\n",
    "* List popular development environment open source tools for Data Science\n",
    "* Doing arithmetic operations"
   ]
  },
  {
   "cell_type": "markdown",
   "id": "9d406dfe-d48f-4b68-802c-a68b840b10fd",
   "metadata": {},
   "source": [
    "Some of the popular languages that Data Scientists use are:\n",
    "1. Python\n",
    "2. R\n",
    "3. SQL\n",
    "4. java\n",
    "5. Scala\n",
    "6. C++\n",
    "7. JavaScript\n",
    "8. Julia"
   ]
  },
  {
   "cell_type": "markdown",
   "id": "b422d0e8-e070-4fad-a17f-e464bbcd7176",
   "metadata": {},
   "source": [
    "Some of the commonly used libraries used by Data Scientists include:\n",
    "1. Python Libraries\n",
    "2. ApacheSpark Libraries\n",
    "3. Scala Libraries\n",
    "4. R Libraries"
   ]
  },
  {
   "cell_type": "markdown",
   "id": "b4da6118-d9bb-4aa9-8738-9a33eab607bc",
   "metadata": {},
   "source": [
    "| Data Science Tools |\n",
    "| ------------------ |\n",
    "| Jupyter Notebook |\n",
    "| Jupyter Lab |\n",
    "| Apache Zeppelin |\n",
    "| R studio |\n",
    "| Spyder |"
   ]
  },
  {
   "cell_type": "markdown",
   "id": "87fcbb82-2ba8-4d94-a2c4-10d0f70b3921",
   "metadata": {},
   "source": [
    "### Below are a few examples of evaluating arithmetic expressions in Python"
   ]
  },
  {
   "cell_type": "code",
   "execution_count": 5,
   "id": "c59db074-d0a0-4cce-98a1-3973b8d9cea6",
   "metadata": {
    "scrolled": true
   },
   "outputs": [
    {
     "name": "stdout",
     "output_type": "stream",
     "text": [
      "17\n"
     ]
    }
   ],
   "source": [
    "x=(3*4)+5\n",
    "#This a simple arithmetic expression to mutiply then add integers\n",
    "print(x)"
   ]
  },
  {
   "cell_type": "code",
   "execution_count": 7,
   "id": "b6f9848b-aff1-45e3-aa8a-d87e672a9d80",
   "metadata": {
    "scrolled": true
   },
   "outputs": [
    {
     "name": "stdout",
     "output_type": "stream",
     "text": [
      "200 minutes is 3 hours and 20 minutes\n"
     ]
    }
   ],
   "source": [
    "minutes = 200\n",
    "hours = minutes // 60\n",
    "remaining_minutes = minutes % 60\n",
    "#This will convert 200 minutes to hours by diving by 60\n",
    "print(minutes, \"minutes is\", hours, \"hours and\", remaining_minutes, \"minutes\" )\n"
   ]
  },
  {
   "cell_type": "markdown",
   "id": "f0b82229-467c-4a30-8016-6cd744acb5fc",
   "metadata": {},
   "source": [
    "## Author\n",
    "Md. Ashhab Rahman"
   ]
  },
  {
   "cell_type": "code",
   "execution_count": null,
   "id": "c8cbb6c9-ea1a-4e69-b80f-f14a0186d4db",
   "metadata": {},
   "outputs": [],
   "source": []
  }
 ],
 "metadata": {
  "kernelspec": {
   "display_name": "Python 3 (ipykernel)",
   "language": "python",
   "name": "python3"
  },
  "language_info": {
   "codemirror_mode": {
    "name": "ipython",
    "version": 3
   },
   "file_extension": ".py",
   "mimetype": "text/x-python",
   "name": "python",
   "nbconvert_exporter": "python",
   "pygments_lexer": "ipython3",
   "version": "3.12.8"
  }
 },
 "nbformat": 4,
 "nbformat_minor": 5
}
